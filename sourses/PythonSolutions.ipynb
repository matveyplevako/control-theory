{
  "nbformat": 4,
  "nbformat_minor": 0,
  "metadata": {
    "colab": {
      "name": "Untitled1.ipynb",
      "provenance": []
    },
    "kernelspec": {
      "name": "python3",
      "display_name": "Python 3"
    }
  },
  "cells": [
    {
      "cell_type": "code",
      "metadata": {
        "id": "vbey52doaPtJ",
        "colab_type": "code",
        "colab": {}
      },
      "source": [
        "import numpy as np\n",
        "\n",
        "# return matrix A and b\n",
        "# 1. divide by a_k \n",
        "# 2. express y^(k) derivative \n",
        "# 3. create matrix and replace the last row with reverse coefficients\n",
        "def convert_ODE_to_SS(coefs, b0):\n",
        "  b0 /= coefs[0]\n",
        "  coefs = coefs / coefs[0]\n",
        "  A = np.eye(len(coefs), k=1)\n",
        "  A[-1] = coefs[::-1]\n",
        "  B = np.zeros((3, 1))\n",
        "  B[-1][0] = b0\n",
        "  return A, B\n",
        "  "
      ],
      "execution_count": 0,
      "outputs": []
    },
    {
      "cell_type": "code",
      "metadata": {
        "id": "XkJkoD12a_NY",
        "colab_type": "code",
        "colab": {
          "base_uri": "https://localhost:8080/",
          "height": 102
        },
        "outputId": "f24f50a4-86ed-462d-a338-784a71c86e10"
      },
      "source": [
        "coef = np.array([3, 2, 1])\n",
        "convert_ODE_to_SS(coef, 3)"
      ],
      "execution_count": 43,
      "outputs": [
        {
          "output_type": "execute_result",
          "data": {
            "text/plain": [
              "(array([[0.        , 1.        , 0.        ],\n",
              "        [0.        , 0.        , 1.        ],\n",
              "        [0.33333333, 0.66666667, 1.        ]]), array([[0.        ],\n",
              "        [0.        ],\n",
              "        [0.33333333]]))"
            ]
          },
          "metadata": {
            "tags": []
          },
          "execution_count": 43
        }
      ]
    },
    {
      "cell_type": "code",
      "metadata": {
        "id": "6Q_bcD5zcaaF",
        "colab_type": "code",
        "colab": {}
      },
      "source": [
        "def pend(y, t, coefs, u):\n",
        "  '''\n",
        "  y: np array of shape (N) in order x(0), x'(0), x''(0) ...\n",
        "  t: range\n",
        "  coefs: np array of shape (N) in order a1*x, a2*x', a3*x'' ...\n",
        "  u: function of t\n",
        "  '''\n",
        "  dydt = np.append(y[1:], coefs.dot(y) + u(t)) \n",
        "  return dydt\n"
      ],
      "execution_count": 0,
      "outputs": []
    },
    {
      "cell_type": "code",
      "metadata": {
        "id": "Iqra7CwRjsFy",
        "colab_type": "code",
        "colab": {}
      },
      "source": [
        "from scipy.integrate import odeint\n",
        "from math import sin\n",
        "\n",
        "coefs = np.array([-5, 1])\n",
        "y0 = np.array([-5, 0])\n",
        "u = lambda t: -3 * sin(t)\n",
        "t = np.linspace(0, 10, 101)\n",
        "sol = odeint(pend, y0, t, args=(coefs, u))"
      ],
      "execution_count": 0,
      "outputs": []
    },
    {
      "cell_type": "code",
      "metadata": {
        "id": "S5gNSUBbni_D",
        "colab_type": "code",
        "colab": {
          "base_uri": "https://localhost:8080/",
          "height": 279
        },
        "outputId": "7df50889-026b-4521-9f78-a54898fcca76"
      },
      "source": [
        "import matplotlib.pyplot as plt\n",
        "\n",
        "plt.plot(t, sol[:, 0], 'b', label='x(t)')\n",
        "plt.legend(loc='best')\n",
        "plt.xlabel('t')\n",
        "plt.grid()\n",
        "plt.show()"
      ],
      "execution_count": 80,
      "outputs": [
        {
          "output_type": "display_data",
          "data": {
            "image/png": "[encoded data removed]",
            "text/plain": [
              "<Figure size 432x288 with 1 Axes>"
            ]
          },
          "metadata": {
            "tags": []
          }
        }
      ]
    }
  ]
}